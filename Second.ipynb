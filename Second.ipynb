{
 "cells": [
  {
   "cell_type": "code",
   "execution_count": 184,
   "id": "4c6cbac7-4838-4983-8dd4-3bd0902139be",
   "metadata": {
    "tags": []
   },
   "outputs": [],
   "source": [
    "import tensorflow as tf\n",
    "from tensorflow.keras.applications import ResNet50\n",
    "from tensorflow.keras.layers import Dense, Flatten, GlobalAveragePooling2D\n",
    "from tensorflow.keras.models import Model\n",
    "from tensorflow.keras.preprocessing.image import ImageDataGenerator"
   ]
  },
  {
   "cell_type": "code",
   "execution_count": 186,
   "id": "353b4fc8-9d2e-42be-a747-d1c3ba824af0",
   "metadata": {
    "tags": []
   },
   "outputs": [],
   "source": [
    "#Configura el Modelo Base excluyendo la última capa de clasificación\n",
    "base_model = ResNet50(weights='imagenet', include_top=False, input_shape=(224, 224, 3))\n"
   ]
  },
  {
   "cell_type": "code",
   "execution_count": 187,
   "id": "16387663-8604-4e26-ba67-c636acd8b963",
   "metadata": {
    "tags": []
   },
   "outputs": [],
   "source": [
    "#Congelar las Capas del Modelo Base para que no se actualicen durante el entrenamiento\n",
    "for layer in base_model.layers:\n",
    "    layer.trainable = False"
   ]
  },
  {
   "cell_type": "code",
   "execution_count": 190,
   "id": "b13b4153-5d54-4aca-8b09-dd63351d6ae7",
   "metadata": {
    "tags": []
   },
   "outputs": [],
   "source": [
    "from tensorflow.keras.layers import Dropout\n",
    "\n",
    "x = base_model.output\n",
    "x = GlobalAveragePooling2D()(x)\n",
    "x = Dense(1024, activation='relu')(x)\n",
    "x = Dropout(0.5)(x)  # Capa Dropout adicional\n",
    "x = Dense(512, activation='relu')(x)\n",
    "x = Dropout(0.5)(x)  # Otra capa Dropout\n",
    "predictions = Dense(1, activation='sigmoid')(x)\n",
    "\n",
    "model = Model(inputs=base_model.input, outputs=predictions)\n"
   ]
  },
  {
   "cell_type": "code",
   "execution_count": 192,
   "id": "5d40d113-9982-41d2-a8ab-72b4eaffe57d",
   "metadata": {
    "tags": []
   },
   "outputs": [],
   "source": [
    "from tensorflow.keras.optimizers import Adam\n",
    "\n",
    "model.compile(optimizer=Adam(learning_rate=0.0001), loss='binary_crossentropy', metrics=['accuracy'])"
   ]
  },
  {
   "cell_type": "code",
   "execution_count": 194,
   "id": "b486c5f3-c42c-4941-9a9a-562a0d93a90f",
   "metadata": {
    "tags": []
   },
   "outputs": [
    {
     "data": {
      "text/plain": [
       "['catvnoncat']"
      ]
     },
     "execution_count": 194,
     "metadata": {},
     "output_type": "execute_result"
    }
   ],
   "source": [
    "import zipfile\n",
    "import os\n",
    "\n",
    "# Ruta del archivo y el directorio de destino\n",
    "zip_path = '/home/adrian/Descargas/archive (1).zip'\n",
    "\n",
    "extract_dir = '/home/adrian/Descargas/cats_vs_noncats'\n",
    "\n",
    "# Extraer el archivo zip\n",
    "with zipfile.ZipFile(zip_path, 'r') as zip_ref:\n",
    "    zip_ref.extractall(extract_dir)\n",
    "\n",
    "# Listar los archivos y directorios para ver cómo están organizados\n",
    "extracted_files = os.listdir(extract_dir)\n",
    "extracted_files"
   ]
  },
  {
   "cell_type": "code",
   "execution_count": 196,
   "id": "c0b7e84c-5054-438f-8183-9165f2685f7f",
   "metadata": {
    "tags": []
   },
   "outputs": [
    {
     "data": {
      "text/plain": [
       "['train_catvnoncat.h5', 'test_catvnoncat.h5']"
      ]
     },
     "execution_count": 196,
     "metadata": {},
     "output_type": "execute_result"
    }
   ],
   "source": [
    "catvnoncat_dir = os.path.join(extract_dir, 'catvnoncat')\n",
    "subdirectories = os.listdir(catvnoncat_dir)\n",
    "subdirectories"
   ]
  },
  {
   "cell_type": "code",
   "execution_count": 198,
   "id": "39aab299-3704-405e-9e89-6f7e66baddef",
   "metadata": {
    "tags": []
   },
   "outputs": [],
   "source": [
    "catvnoncat_dir = os.path.join(extract_dir, 'catvnoncat')"
   ]
  },
  {
   "cell_type": "code",
   "execution_count": 200,
   "id": "f72c0849-6a92-45bd-9534-c0c8fef4852e",
   "metadata": {
    "tags": []
   },
   "outputs": [
    {
     "name": "stdout",
     "output_type": "stream",
     "text": [
      "Training images resized shape: (209, 224, 224, 3)\n",
      "Test images resized shape: (50, 224, 224, 3)\n"
     ]
    }
   ],
   "source": [
    "import h5py\n",
    "import numpy as np\n",
    "import tensorflow as tf\n",
    "from tensorflow.keras.applications.resnet50 import preprocess_input\n",
    "\n",
    "def load_dataset(file_path):\n",
    "    with h5py.File(file_path, 'r') as h5file:\n",
    "        images = np.array(h5file['train_set_x'] if 'train_set_x' in h5file else h5file['test_set_x'])\n",
    "        labels = np.array(h5file['train_set_y'] if 'train_set_y' in h5file else h5file['test_set_y'])\n",
    "        class_list = np.array(h5file['list_classes'])\n",
    "    return images, labels, class_list\n",
    "\n",
    "# Rutas completas de los archivos de entrenamiento y prueba\n",
    "train_file_path = '/home/adrian/Descargas/cats_vs_noncats/catvnoncat/train_catvnoncat.h5'\n",
    "test_file_path = '/home/adrian/Descargas/cats_vs_noncats/catvnoncat/test_catvnoncat.h5'\n",
    "\n",
    "# Cargar el conjunto de datos de entrenamiento y prueba\n",
    "train_images, train_labels, classes = load_dataset(train_file_path)\n",
    "test_images, test_labels, _ = load_dataset(test_file_path)\n",
    "\n",
    "# Redimensionar las imágenes con padding y normalización adecuada para ResNet50\n",
    "train_images_resized = tf.image.resize_with_pad(train_images, 224, 224)\n",
    "test_images_resized = tf.image.resize_with_pad(test_images, 224, 224)\n",
    "\n",
    "# Normalizar las imágenes al formato que espera ResNet50\n",
    "train_images_resized = preprocess_input(train_images_resized)\n",
    "test_images_resized = preprocess_input(test_images_resized)\n",
    "\n",
    "print(f\"Training images resized shape: {train_images_resized.shape}\")\n",
    "print(f\"Test images resized shape: {test_images_resized.shape}\")"
   ]
  },
  {
   "cell_type": "code",
   "execution_count": 202,
   "id": "936753a3-6d64-4f74-9819-60c3372ff167",
   "metadata": {
    "tags": []
   },
   "outputs": [
    {
     "name": "stdout",
     "output_type": "stream",
     "text": [
      "Etiquetas únicas en el conjunto de entrenamiento: [0 1]\n",
      "Etiquetas únicas en el conjunto de prueba: [0 1]\n"
     ]
    }
   ],
   "source": [
    "# Verificar las etiquetas únicas en el conjunto de entrenamiento y prueba\n",
    "unique_train_labels = np.unique(train_labels)\n",
    "unique_test_labels = np.unique(test_labels)\n",
    "\n",
    "print(\"Etiquetas únicas en el conjunto de entrenamiento:\", unique_train_labels)\n",
    "print(\"Etiquetas únicas en el conjunto de prueba:\", unique_test_labels)"
   ]
  },
  {
   "cell_type": "code",
   "execution_count": 204,
   "id": "e6c2d28d-9ce9-46b2-a7d8-1397e728727a",
   "metadata": {
    "tags": []
   },
   "outputs": [
    {
     "name": "stdout",
     "output_type": "stream",
     "text": [
      "Epoch 1/10\n",
      "\u001b[1m7/7\u001b[0m \u001b[32m━━━━━━━━━━━━━━━━━━━━\u001b[0m\u001b[37m\u001b[0m \u001b[1m9s\u001b[0m 807ms/step - accuracy: 0.5935 - loss: 0.7248 - val_accuracy: 0.6600 - val_loss: 0.5213\n",
      "Epoch 2/10\n",
      "\u001b[1m7/7\u001b[0m \u001b[32m━━━━━━━━━━━━━━━━━━━━\u001b[0m\u001b[37m\u001b[0m \u001b[1m4s\u001b[0m 653ms/step - accuracy: 0.9140 - loss: 0.2848 - val_accuracy: 1.0000 - val_loss: 0.1071\n",
      "Epoch 3/10\n",
      "\u001b[1m7/7\u001b[0m \u001b[32m━━━━━━━━━━━━━━━━━━━━\u001b[0m\u001b[37m\u001b[0m \u001b[1m5s\u001b[0m 660ms/step - accuracy: 0.9475 - loss: 0.1706 - val_accuracy: 1.0000 - val_loss: 0.0525\n",
      "Epoch 4/10\n",
      "\u001b[1m7/7\u001b[0m \u001b[32m━━━━━━━━━━━━━━━━━━━━\u001b[0m\u001b[37m\u001b[0m \u001b[1m5s\u001b[0m 658ms/step - accuracy: 0.9348 - loss: 0.1484 - val_accuracy: 0.9800 - val_loss: 0.0534\n",
      "Epoch 5/10\n",
      "\u001b[1m7/7\u001b[0m \u001b[32m━━━━━━━━━━━━━━━━━━━━\u001b[0m\u001b[37m\u001b[0m \u001b[1m5s\u001b[0m 673ms/step - accuracy: 0.9875 - loss: 0.0699 - val_accuracy: 1.0000 - val_loss: 0.0365\n",
      "Epoch 6/10\n",
      "\u001b[1m7/7\u001b[0m \u001b[32m━━━━━━━━━━━━━━━━━━━━\u001b[0m\u001b[37m\u001b[0m \u001b[1m5s\u001b[0m 696ms/step - accuracy: 0.9745 - loss: 0.0685 - val_accuracy: 1.0000 - val_loss: 0.0235\n",
      "Epoch 7/10\n",
      "\u001b[1m7/7\u001b[0m \u001b[32m━━━━━━━━━━━━━━━━━━━━\u001b[0m\u001b[37m\u001b[0m \u001b[1m5s\u001b[0m 702ms/step - accuracy: 0.9862 - loss: 0.0467 - val_accuracy: 1.0000 - val_loss: 0.0222\n",
      "Epoch 8/10\n",
      "\u001b[1m7/7\u001b[0m \u001b[32m━━━━━━━━━━━━━━━━━━━━\u001b[0m\u001b[37m\u001b[0m \u001b[1m5s\u001b[0m 680ms/step - accuracy: 0.9844 - loss: 0.0524 - val_accuracy: 1.0000 - val_loss: 0.0215\n",
      "Epoch 9/10\n",
      "\u001b[1m7/7\u001b[0m \u001b[32m━━━━━━━━━━━━━━━━━━━━\u001b[0m\u001b[37m\u001b[0m \u001b[1m5s\u001b[0m 690ms/step - accuracy: 0.9892 - loss: 0.0500 - val_accuracy: 1.0000 - val_loss: 0.0191\n",
      "Epoch 10/10\n",
      "\u001b[1m7/7\u001b[0m \u001b[32m━━━━━━━━━━━━━━━━━━━━\u001b[0m\u001b[37m\u001b[0m \u001b[1m5s\u001b[0m 694ms/step - accuracy: 0.9831 - loss: 0.0372 - val_accuracy: 1.0000 - val_loss: 0.0202\n"
     ]
    }
   ],
   "source": [
    "history = model.fit(\n",
    "    train_images_resized, train_labels,\n",
    "    validation_data=(test_images_resized, test_labels),\n",
    "    epochs=10,\n",
    "    batch_size=32\n",
    ")\n"
   ]
  },
  {
   "cell_type": "code",
   "execution_count": 206,
   "id": "6e700ce6-0b05-47c9-a21a-32b36ec51d66",
   "metadata": {
    "tags": []
   },
   "outputs": [
    {
     "name": "stdout",
     "output_type": "stream",
     "text": [
      "\u001b[1m2/2\u001b[0m \u001b[32m━━━━━━━━━━━━━━━━━━━━\u001b[0m\u001b[37m\u001b[0m \u001b[1m1s\u001b[0m 303ms/step - accuracy: 1.0000 - loss: 0.0172\n",
      "Pérdida: 0.020186210051178932\n",
      "Precisión: 1.0\n"
     ]
    }
   ],
   "source": [
    "loss, accuracy = model.evaluate(test_images_resized, test_labels)\n",
    "print(f'Pérdida: {loss}')\n",
    "print(f'Precisión: {accuracy}')\n"
   ]
  },
  {
   "cell_type": "code",
   "execution_count": 210,
   "id": "34c6027d-1be4-4aff-8928-13a2eee3f8f2",
   "metadata": {
    "tags": []
   },
   "outputs": [
    {
     "name": "stdout",
     "output_type": "stream",
     "text": [
      "\u001b[1m1/1\u001b[0m \u001b[32m━━━━━━━━━━━━━━━━━━━━\u001b[0m\u001b[37m\u001b[0m \u001b[1m0s\u001b[0m 29ms/step\n",
      "Es un gato (99.66% de confianza)\n"
     ]
    }
   ],
   "source": [
    "from tensorflow.keras.applications.resnet50 import preprocess_input\n",
    "import numpy as np\n",
    "import tensorflow as tf\n",
    "\n",
    "def predict_image(img_array):\n",
    "    # Redimensionar la imagen\n",
    "    img_resized = tf.image.resize(img_array, (224, 224))\n",
    "\n",
    "    # Preprocesar la imagen de la misma forma que durante el entrenamiento\n",
    "    img_resized = preprocess_input(img_resized)\n",
    "    \n",
    "    # Añadir dimensión de lote\n",
    "    img_resized = np.expand_dims(img_resized, axis=0)\n",
    "\n",
    "    # Hacer la predicción\n",
    "    prediction = model.predict(img_resized)[0][0]\n",
    "\n",
    "    # Calcular el porcentaje de confianza\n",
    "    confidence = prediction * 100\n",
    "\n",
    "    # Interpretar y mostrar el resultado\n",
    "    if prediction > 0.5:\n",
    "        print(f\"Es un gato ({confidence:.2f}% de confianza)\")\n",
    "    else:\n",
    "        print(f\"No es un gato ({100 - confidence:.2f}% de confianza)\")\n",
    "predict_image(test_images[0])"
   ]
  },
  {
   "cell_type": "code",
   "execution_count": 212,
   "id": "a08a8169-efcd-438a-84ff-a718ab18bd1e",
   "metadata": {
    "tags": []
   },
   "outputs": [],
   "source": [
    "def load_and_prepare_image(img_path):\n",
    "    # Cargar la imagen y redimensionarla a 224x224\n",
    "    img = image.load_img(img_path, target_size=(224, 224))\n",
    "    img_array = image.img_to_array(img)  # Convertir la imagen en un array\n",
    "\n",
    "    # Aplicar preprocess_input para que el array esté en el rango que espera ResNet50\n",
    "    img_array = preprocess_input(img_array)\n",
    "    \n",
    "    # Añadir una dimensión de lote\n",
    "    img_array = np.expand_dims(img_array, axis=0)\n",
    "    return img_array"
   ]
  },
  {
   "cell_type": "code",
   "execution_count": 249,
   "id": "a79ce594-a6a8-4a3d-a4c3-7524e2852421",
   "metadata": {
    "tags": []
   },
   "outputs": [
    {
     "name": "stdout",
     "output_type": "stream",
     "text": [
      "\u001b[1m1/1\u001b[0m \u001b[32m━━━━━━━━━━━━━━━━━━━━\u001b[0m\u001b[37m\u001b[0m \u001b[1m0s\u001b[0m 29ms/step\n",
      "gato_disfraz_rey.jpg: Es un gato (90.75% de confianza)\n",
      "\u001b[1m1/1\u001b[0m \u001b[32m━━━━━━━━━━━━━━━━━━━━\u001b[0m\u001b[37m\u001b[0m \u001b[1m0s\u001b[0m 30ms/step\n",
      "istockphoto-941224542-612x612.jpg: Es un gato (5.43% de confianza)\n",
      "\u001b[1m1/1\u001b[0m \u001b[32m━━━━━━━━━━━━━━━━━━━━\u001b[0m\u001b[37m\u001b[0m \u001b[1m0s\u001b[0m 29ms/step\n",
      "origami_gato.jpeg: Es un gato (96.44% de confianza)\n",
      "\u001b[1m1/1\u001b[0m \u001b[32m━━━━━━━━━━━━━━━━━━━━\u001b[0m\u001b[37m\u001b[0m \u001b[1m0s\u001b[0m 30ms/step\n",
      "mesa.png: Es un gato (1.33% de confianza)\n",
      "\u001b[1m1/1\u001b[0m \u001b[32m━━━━━━━━━━━━━━━━━━━━\u001b[0m\u001b[37m\u001b[0m \u001b[1m0s\u001b[0m 30ms/step\n",
      "descarga.jpeg: Es un gato (98.17% de confianza)\n",
      "\u001b[1m1/1\u001b[0m \u001b[32m━━━━━━━━━━━━━━━━━━━━\u001b[0m\u001b[37m\u001b[0m \u001b[1m0s\u001b[0m 30ms/step\n",
      "muchos_gato_peque.jpg: Es un gato (96.94% de confianza)\n",
      "\u001b[1m1/1\u001b[0m \u001b[32m━━━━━━━━━━━━━━━━━━━━\u001b[0m\u001b[37m\u001b[0m \u001b[1m0s\u001b[0m 30ms/step\n",
      "patito_goma.jpg: Es un gato (5.33% de confianza)\n",
      "\u001b[1m1/1\u001b[0m \u001b[32m━━━━━━━━━━━━━━━━━━━━\u001b[0m\u001b[37m\u001b[0m \u001b[1m0s\u001b[0m 30ms/step\n",
      "gato_dibujo.jpg: Es un gato (0.66% de confianza)\n",
      "\u001b[1m1/1\u001b[0m \u001b[32m━━━━━━━━━━━━━━━━━━━━\u001b[0m\u001b[37m\u001b[0m \u001b[1m0s\u001b[0m 30ms/step\n",
      "gatito_heterogeneo.jpeg: Es un gato (99.95% de confianza)\n",
      "\u001b[1m1/1\u001b[0m \u001b[32m━━━━━━━━━━━━━━━━━━━━\u001b[0m\u001b[37m\u001b[0m \u001b[1m0s\u001b[0m 31ms/step\n",
      "gato_peque2.jpg: Es un gato (98.19% de confianza)\n",
      "\u001b[1m1/1\u001b[0m \u001b[32m━━━━━━━━━━━━━━━━━━━━\u001b[0m\u001b[37m\u001b[0m \u001b[1m0s\u001b[0m 30ms/step\n",
      "gato_peque.png: Es un gato (87.59% de confianza)\n",
      "\u001b[1m1/1\u001b[0m \u001b[32m━━━━━━━━━━━━━━━━━━━━\u001b[0m\u001b[37m\u001b[0m \u001b[1m0s\u001b[0m 29ms/step\n",
      "mapache.jpg: Es un gato (29.46% de confianza)\n",
      "\u001b[1m1/1\u001b[0m \u001b[32m━━━━━━━━━━━━━━━━━━━━\u001b[0m\u001b[37m\u001b[0m \u001b[1m0s\u001b[0m 29ms/step\n",
      "yeray2.jpg: Es un gato (10.55% de confianza)\n",
      "\u001b[1m1/1\u001b[0m \u001b[32m━━━━━━━━━━━━━━━━━━━━\u001b[0m\u001b[37m\u001b[0m \u001b[1m0s\u001b[0m 29ms/step\n",
      "gato_cara.jpg: Es un gato (98.89% de confianza)\n",
      "\u001b[1m1/1\u001b[0m \u001b[32m━━━━━━━━━━━━━━━━━━━━\u001b[0m\u001b[37m\u001b[0m \u001b[1m0s\u001b[0m 29ms/step\n",
      "gato.jpeg: Es un gato (99.69% de confianza)\n",
      "\u001b[1m1/1\u001b[0m \u001b[32m━━━━━━━━━━━━━━━━━━━━\u001b[0m\u001b[37m\u001b[0m \u001b[1m0s\u001b[0m 29ms/step\n",
      "iratze2.jpg: Es un gato (4.19% de confianza)\n",
      "\u001b[1m1/1\u001b[0m \u001b[32m━━━━━━━━━━━━━━━━━━━━\u001b[0m\u001b[37m\u001b[0m \u001b[1m0s\u001b[0m 29ms/step\n",
      "persona_disfrazada_gato.jpeg: Es un gato (72.33% de confianza)\n",
      "\u001b[1m1/1\u001b[0m \u001b[32m━━━━━━━━━━━━━━━━━━━━\u001b[0m\u001b[37m\u001b[0m \u001b[1m0s\u001b[0m 36ms/step\n",
      "gato-egipcio.jpg: Es un gato (98.96% de confianza)\n"
     ]
    }
   ],
   "source": [
    "\n",
    "def predict_images_in_folder(model, folder_path):\n",
    "    # Iterar sobre cada archivo en la carpeta\n",
    "    for filename in os.listdir(folder_path):\n",
    "        img_path = os.path.join(folder_path, filename)\n",
    "        \n",
    "        # Asegurarse de que el archivo es una imagen\n",
    "        if filename.endswith(('.jpg', '.jpeg', '.png')):\n",
    "            # Preparar la imagen\n",
    "            prepared_image = load_and_prepare_image(img_path)\n",
    "\n",
    "            # Hacer la predicción\n",
    "            prediction = model.predict(prepared_image)[0][0]\n",
    "            \n",
    "            # Calcular el porcentaje de confianza\n",
    "            confidence = prediction * 100\n",
    "            print(f\"{filename}: Es un gato ({confidence:.2f}% de confianza)\")\n",
    "            \n",
    "# Ejecutar la función para predecir imágenes en una carpeta\n",
    "predict_images_in_folder(model, 'img')"
   ]
  },
  {
   "cell_type": "code",
   "execution_count": 233,
   "id": "77515e26-98e7-4125-aeee-cf22e6bf1979",
   "metadata": {},
   "outputs": [
    {
     "name": "stderr",
     "output_type": "stream",
     "text": [
      "WARNING:absl:You are saving your model as an HDF5 file via `model.save()` or `keras.saving.save_model(model)`. This file format is considered legacy. We recommend using instead the native Keras format, e.g. `model.save('my_model.keras')` or `keras.saving.save_model(model, 'my_model.keras')`. \n"
     ]
    }
   ],
   "source": [
    "model.save(\"modelo_gatos_no_gatos.h5\")\n",
    "model.save(\"modelo_gatos_no_gatos.keras\")\n"
   ]
  },
  {
   "cell_type": "code",
   "execution_count": null,
   "id": "0c7d30be-b5db-4dac-8cb8-f70c2e175814",
   "metadata": {},
   "outputs": [],
   "source": []
  }
 ],
 "metadata": {
  "kernelspec": {
   "display_name": "Python 3 (ipykernel)",
   "language": "python",
   "name": "python3"
  },
  "language_info": {
   "codemirror_mode": {
    "name": "ipython",
    "version": 3
   },
   "file_extension": ".py",
   "mimetype": "text/x-python",
   "name": "python",
   "nbconvert_exporter": "python",
   "pygments_lexer": "ipython3",
   "version": "3.11.7"
  }
 },
 "nbformat": 4,
 "nbformat_minor": 5
}
