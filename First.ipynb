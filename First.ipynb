{
 "cells": [
  {
   "cell_type": "code",
   "execution_count": 5,
   "id": "4c6cbac7-4838-4983-8dd4-3bd0902139be",
   "metadata": {
    "tags": []
   },
   "outputs": [],
   "source": [
    "import tensorflow as tf\n",
    "from tensorflow.keras.applications import ResNet50\n",
    "from tensorflow.keras.layers import Dense, Flatten, GlobalAveragePooling2D\n",
    "from tensorflow.keras.models import Model\n",
    "from tensorflow.keras.preprocessing.image import ImageDataGenerator"
   ]
  },
  {
   "cell_type": "code",
   "execution_count": 7,
   "id": "353b4fc8-9d2e-42be-a747-d1c3ba824af0",
   "metadata": {
    "tags": []
   },
   "outputs": [
    {
     "name": "stderr",
     "output_type": "stream",
     "text": [
      "2024-11-11 10:45:08.407977: E external/local_xla/xla/stream_executor/cuda/cuda_driver.cc:152] failed call to cuInit: INTERNAL: CUDA error: Failed call to cuInit: UNKNOWN ERROR (303)\n"
     ]
    },
    {
     "name": "stdout",
     "output_type": "stream",
     "text": [
      "Downloading data from https://storage.googleapis.com/tensorflow/keras-applications/resnet/resnet50_weights_tf_dim_ordering_tf_kernels_notop.h5\n",
      "\u001b[1m94765736/94765736\u001b[0m \u001b[32m━━━━━━━━━━━━━━━━━━━━\u001b[0m\u001b[37m\u001b[0m \u001b[1m19s\u001b[0m 0us/step\n"
     ]
    }
   ],
   "source": [
    "#Configura el Modelo Base excluyendo la última capa de clasificación\n",
    "base_model = ResNet50(weights='imagenet', include_top=False, input_shape=(224, 224, 3))\n"
   ]
  },
  {
   "cell_type": "code",
   "execution_count": 9,
   "id": "16387663-8604-4e26-ba67-c636acd8b963",
   "metadata": {
    "tags": []
   },
   "outputs": [],
   "source": [
    "#Congelar las Capas del Modelo Base para que no se actualicen durante el entrenamiento\n",
    "for layer in base_model.layers:\n",
    "    layer.trainable = False"
   ]
  },
  {
   "cell_type": "code",
   "execution_count": 11,
   "id": "b13b4153-5d54-4aca-8b09-dd63351d6ae7",
   "metadata": {
    "tags": []
   },
   "outputs": [],
   "source": [
    "x = base_model.output\n",
    "x = GlobalAveragePooling2D()(x)  # Reduce la dimensionalidad\n",
    "x = Dense(1024, activation='relu')(x)  # Capa densa adicional\n",
    "predictions = Dense(1, activation='sigmoid')(x)  # Capa final para clasificación binaria (gato/no-gato)\n",
    "\n",
    "# Crea el modelo final\n",
    "model = Model(inputs=base_model.input, outputs=predictions)"
   ]
  },
  {
   "cell_type": "code",
   "execution_count": 13,
   "id": "5d40d113-9982-41d2-a8ab-72b4eaffe57d",
   "metadata": {
    "tags": []
   },
   "outputs": [],
   "source": [
    "model.compile(optimizer='adam', loss='binary_crossentropy', metrics=['accuracy'])"
   ]
  },
  {
   "cell_type": "code",
   "execution_count": 15,
   "id": "b486c5f3-c42c-4941-9a9a-562a0d93a90f",
   "metadata": {
    "tags": []
   },
   "outputs": [
    {
     "data": {
      "text/plain": [
       "['catvnoncat']"
      ]
     },
     "execution_count": 15,
     "metadata": {},
     "output_type": "execute_result"
    }
   ],
   "source": [
    "import zipfile\n",
    "import os\n",
    "\n",
    "# Ruta del archivo y el directorio de destino\n",
    "zip_path = '/home/adrian/Descargas/archive (1).zip'\n",
    "\n",
    "extract_dir = '/home/adrian/Descargas/cats_vs_noncats'\n",
    "\n",
    "# Extraer el archivo zip\n",
    "with zipfile.ZipFile(zip_path, 'r') as zip_ref:\n",
    "    zip_ref.extractall(extract_dir)\n",
    "\n",
    "# Listar los archivos y directorios para ver cómo están organizados\n",
    "extracted_files = os.listdir(extract_dir)\n",
    "extracted_files"
   ]
  },
  {
   "cell_type": "code",
   "execution_count": 17,
   "id": "c0b7e84c-5054-438f-8183-9165f2685f7f",
   "metadata": {
    "tags": []
   },
   "outputs": [
    {
     "data": {
      "text/plain": [
       "['train_catvnoncat.h5', 'test_catvnoncat.h5']"
      ]
     },
     "execution_count": 17,
     "metadata": {},
     "output_type": "execute_result"
    }
   ],
   "source": [
    "catvnoncat_dir = os.path.join(extract_dir, 'catvnoncat')\n",
    "subdirectories = os.listdir(catvnoncat_dir)\n",
    "subdirectories"
   ]
  },
  {
   "cell_type": "code",
   "execution_count": 19,
   "id": "39aab299-3704-405e-9e89-6f7e66baddef",
   "metadata": {
    "tags": []
   },
   "outputs": [],
   "source": [
    "catvnoncat_dir = os.path.join(extract_dir, 'catvnoncat')"
   ]
  },
  {
   "cell_type": "code",
   "execution_count": 21,
   "id": "f72c0849-6a92-45bd-9534-c0c8fef4852e",
   "metadata": {
    "tags": []
   },
   "outputs": [
    {
     "name": "stdout",
     "output_type": "stream",
     "text": [
      "Training set shape: (209, 64, 64, 3), Labels: (209,)\n",
      "Test set shape: (50, 64, 64, 3), Labels: (50,)\n"
     ]
    }
   ],
   "source": [
    "import h5py\n",
    "import numpy as np\n",
    "\n",
    "def load_dataset(file_path):\n",
    "    with h5py.File(file_path, 'r') as h5file:\n",
    "        images = np.array(h5file['train_set_x'] if 'train_set_x' in h5file else h5file['test_set_x'])\n",
    "        labels = np.array(h5file['train_set_y'] if 'train_set_y' in h5file else h5file['test_set_y'])\n",
    "        class_list = np.array(h5file['list_classes'])\n",
    "    return images, labels, class_list\n",
    "\n",
    "# Rutas completas de los archivos de entrenamiento y prueba\n",
    "train_file_path = '/home/adrian/Descargas/cats_vs_noncats/catvnoncat/train_catvnoncat.h5'\n",
    "test_file_path = '/home/adrian/Descargas/cats_vs_noncats/catvnoncat/test_catvnoncat.h5'\n",
    "\n",
    "# Cargar el conjunto de datos de entrenamiento y prueba\n",
    "train_images, train_labels, classes = load_dataset(train_file_path)\n",
    "test_images, test_labels, _ = load_dataset(test_file_path)\n",
    "\n",
    "print(f\"Training set shape: {train_images.shape}, Labels: {train_labels.shape}\")\n",
    "print(f\"Test set shape: {test_images.shape}, Labels: {test_labels.shape}\")\n"
   ]
  },
  {
   "cell_type": "code",
   "execution_count": 25,
   "id": "936753a3-6d64-4f74-9819-60c3372ff167",
   "metadata": {
    "tags": []
   },
   "outputs": [
    {
     "name": "stdout",
     "output_type": "stream",
     "text": [
      "Etiquetas únicas en el conjunto de entrenamiento: [0 1]\n",
      "Etiquetas únicas en el conjunto de prueba: [0 1]\n"
     ]
    }
   ],
   "source": [
    "# Verificar las etiquetas únicas en el conjunto de entrenamiento y de prueba para confirmar que son 0 y 1\n",
    "unique_train_labels = np.unique(train_labels)\n",
    "unique_test_labels = np.unique(test_labels)\n",
    "\n",
    "print(\"Etiquetas únicas en el conjunto de entrenamiento:\", unique_train_labels)\n",
    "print(\"Etiquetas únicas en el conjunto de prueba:\", unique_test_labels)\n",
    "\n",
    "train_images_resized = tf.image.resize(train_images, (224, 224)) / 255.0\n",
    "test_images_resized = tf.image.resize(test_images, (224, 224)) / 255.0"
   ]
  },
  {
   "cell_type": "code",
   "execution_count": 27,
   "id": "e6c2d28d-9ce9-46b2-a7d8-1397e728727a",
   "metadata": {
    "tags": []
   },
   "outputs": [
    {
     "name": "stdout",
     "output_type": "stream",
     "text": [
      "Epoch 1/10\n",
      "\u001b[1m7/7\u001b[0m \u001b[32m━━━━━━━━━━━━━━━━━━━━\u001b[0m\u001b[37m\u001b[0m \u001b[1m9s\u001b[0m 792ms/step - accuracy: 0.5622 - loss: 1.1316 - val_accuracy: 0.3400 - val_loss: 1.5521\n",
      "Epoch 2/10\n",
      "\u001b[1m7/7\u001b[0m \u001b[32m━━━━━━━━━━━━━━━━━━━━\u001b[0m\u001b[37m\u001b[0m \u001b[1m4s\u001b[0m 639ms/step - accuracy: 0.6870 - loss: 0.8895 - val_accuracy: 0.6600 - val_loss: 0.6261\n",
      "Epoch 3/10\n",
      "\u001b[1m7/7\u001b[0m \u001b[32m━━━━━━━━━━━━━━━━━━━━\u001b[0m\u001b[37m\u001b[0m \u001b[1m4s\u001b[0m 646ms/step - accuracy: 0.4054 - loss: 0.8439 - val_accuracy: 0.3400 - val_loss: 1.3130\n",
      "Epoch 4/10\n",
      "\u001b[1m7/7\u001b[0m \u001b[32m━━━━━━━━━━━━━━━━━━━━\u001b[0m\u001b[37m\u001b[0m \u001b[1m4s\u001b[0m 639ms/step - accuracy: 0.6468 - loss: 0.7104 - val_accuracy: 0.6200 - val_loss: 0.6690\n",
      "Epoch 5/10\n",
      "\u001b[1m7/7\u001b[0m \u001b[32m━━━━━━━━━━━━━━━━━━━━\u001b[0m\u001b[37m\u001b[0m \u001b[1m4s\u001b[0m 634ms/step - accuracy: 0.6417 - loss: 0.6606 - val_accuracy: 0.3400 - val_loss: 0.8550\n",
      "Epoch 6/10\n",
      "\u001b[1m7/7\u001b[0m \u001b[32m━━━━━━━━━━━━━━━━━━━━\u001b[0m\u001b[37m\u001b[0m \u001b[1m4s\u001b[0m 647ms/step - accuracy: 0.6158 - loss: 0.6512 - val_accuracy: 0.3400 - val_loss: 0.9871\n",
      "Epoch 7/10\n",
      "\u001b[1m7/7\u001b[0m \u001b[32m━━━━━━━━━━━━━━━━━━━━\u001b[0m\u001b[37m\u001b[0m \u001b[1m4s\u001b[0m 648ms/step - accuracy: 0.6768 - loss: 0.6051 - val_accuracy: 0.6200 - val_loss: 0.6642\n",
      "Epoch 8/10\n",
      "\u001b[1m7/7\u001b[0m \u001b[32m━━━━━━━━━━━━━━━━━━━━\u001b[0m\u001b[37m\u001b[0m \u001b[1m4s\u001b[0m 647ms/step - accuracy: 0.6735 - loss: 0.6393 - val_accuracy: 0.3400 - val_loss: 0.9150\n",
      "Epoch 9/10\n",
      "\u001b[1m7/7\u001b[0m \u001b[32m━━━━━━━━━━━━━━━━━━━━\u001b[0m\u001b[37m\u001b[0m \u001b[1m5s\u001b[0m 673ms/step - accuracy: 0.6764 - loss: 0.5924 - val_accuracy: 0.4400 - val_loss: 0.6856\n",
      "Epoch 10/10\n",
      "\u001b[1m7/7\u001b[0m \u001b[32m━━━━━━━━━━━━━━━━━━━━\u001b[0m\u001b[37m\u001b[0m \u001b[1m4s\u001b[0m 650ms/step - accuracy: 0.5822 - loss: 0.6462 - val_accuracy: 0.3400 - val_loss: 1.1098\n"
     ]
    }
   ],
   "source": [
    "history = model.fit(\n",
    "    train_images_resized, train_labels,\n",
    "    validation_data=(test_images_resized, test_labels),\n",
    "    epochs=10,\n",
    "    batch_size=32\n",
    ")\n"
   ]
  },
  {
   "cell_type": "code",
   "execution_count": 29,
   "id": "6e700ce6-0b05-47c9-a21a-32b36ec51d66",
   "metadata": {
    "tags": []
   },
   "outputs": [
    {
     "name": "stdout",
     "output_type": "stream",
     "text": [
      "\u001b[1m2/2\u001b[0m \u001b[32m━━━━━━━━━━━━━━━━━━━━\u001b[0m\u001b[37m\u001b[0m \u001b[1m1s\u001b[0m 297ms/step - accuracy: 0.3100 - loss: 1.1468\n",
      "Pérdida: 1.1097832918167114\n",
      "Precisión: 0.3400000035762787\n"
     ]
    }
   ],
   "source": [
    "loss, accuracy = model.evaluate(test_images_resized, test_labels)\n",
    "print(f'Pérdida: {loss}')\n",
    "print(f'Precisión: {accuracy}')\n"
   ]
  },
  {
   "cell_type": "code",
   "execution_count": 31,
   "id": "5f6927e6-e808-4b6c-a04c-2d7d344bcdda",
   "metadata": {
    "tags": []
   },
   "outputs": [
    {
     "name": "stdout",
     "output_type": "stream",
     "text": [
      "\u001b[1m1/1\u001b[0m \u001b[32m━━━━━━━━━━━━━━━━━━━━\u001b[0m\u001b[37m\u001b[0m \u001b[1m1s\u001b[0m 846ms/step\n",
      "No es un gato\n"
     ]
    }
   ],
   "source": [
    "from tensorflow.keras.preprocessing import image\n",
    "\n",
    "def predict_image(img_array):\n",
    "    img_resized = tf.image.resize(img_array, (224, 224)) / 255.0\n",
    "    img_resized = np.expand_dims(img_resized, axis=0)  # Añade una dimensión de lote\n",
    "\n",
    "    prediction = model.predict(img_resized)\n",
    "    if prediction[0] > 0.5:\n",
    "        print(\"Es un gato\")\n",
    "    else:\n",
    "        print(\"No es un gato\")\n",
    "\n",
    "# Prueba con una imagen del conjunto de prueba\n",
    "predict_image(test_images[0])\n"
   ]
  },
  {
   "cell_type": "code",
   "execution_count": 33,
   "id": "a08a8169-efcd-438a-84ff-a718ab18bd1e",
   "metadata": {
    "tags": []
   },
   "outputs": [],
   "source": [
    "from tensorflow.keras.preprocessing import image\n",
    "import numpy as np\n",
    "import tensorflow as tf\n",
    "\n",
    "def load_and_prepare_image(img_path):\n",
    "    # Cargar la imagen y redimensionarla a 224x224\n",
    "    img = image.load_img(img_path, target_size=(224, 224))\n",
    "    img_array = image.img_to_array(img)  # Convertir la imagen en un array\n",
    "    img_array = img_array / 255.0  # Normalizar los valores a [0, 1]\n",
    "    img_array = np.expand_dims(img_array, axis=0)  # Añadir una dimensión de lote\n",
    "    return img_array\n"
   ]
  },
  {
   "cell_type": "code",
   "execution_count": 35,
   "id": "a79ce594-a6a8-4a3d-a4c3-7524e2852421",
   "metadata": {
    "tags": []
   },
   "outputs": [],
   "source": [
    "def predict_images_in_folder(model, folder_path):\n",
    "    # Iterar sobre cada archivo en la carpeta\n",
    "    for filename in os.listdir(folder_path):\n",
    "        img_path = os.path.join(folder_path, filename)\n",
    "        \n",
    "        # Asegurarse de que el archivo es una imagen\n",
    "        if filename.endswith(('.jpg', '.jpeg', '.png')):\n",
    "            # Preparar la imagen\n",
    "            prepared_image = load_and_prepare_image(img_path)\n",
    "\n",
    "            # Hacer la predicción\n",
    "            prediction = model.predict(prepared_image)\n",
    "\n",
    "            # Interpretar el resultado y mostrar el nombre del archivo y la predicción\n",
    "            if prediction[0] > 0.5:\n",
    "                print(f\"{filename}: Es un gato\")\n",
    "            else:\n",
    "                print(f\"{filename}: No es un gato\")\n"
   ]
  },
  {
   "cell_type": "code",
   "execution_count": 47,
   "id": "1033edcd-7d6c-487b-b318-8f23d1ccf1e7",
   "metadata": {
    "tags": []
   },
   "outputs": [
    {
     "name": "stdout",
     "output_type": "stream",
     "text": [
      "\u001b[1m1/1\u001b[0m \u001b[32m━━━━━━━━━━━━━━━━━━━━\u001b[0m\u001b[37m\u001b[0m \u001b[1m0s\u001b[0m 31ms/step\n",
      "descarga.jpeg: No es un gato\n",
      "\u001b[1m1/1\u001b[0m \u001b[32m━━━━━━━━━━━━━━━━━━━━\u001b[0m\u001b[37m\u001b[0m \u001b[1m0s\u001b[0m 31ms/step\n",
      "gato.jpeg: No es un gato\n"
     ]
    }
   ],
   "source": [
    "predict_images_in_folder(model, 'img')\n"
   ]
  },
  {
   "cell_type": "code",
   "execution_count": null,
   "id": "77515e26-98e7-4125-aeee-cf22e6bf1979",
   "metadata": {},
   "outputs": [],
   "source": []
  }
 ],
 "metadata": {
  "kernelspec": {
   "display_name": "Python 3 (ipykernel)",
   "language": "python",
   "name": "python3"
  },
  "language_info": {
   "codemirror_mode": {
    "name": "ipython",
    "version": 3
   },
   "file_extension": ".py",
   "mimetype": "text/x-python",
   "name": "python",
   "nbconvert_exporter": "python",
   "pygments_lexer": "ipython3",
   "version": "3.11.7"
  }
 },
 "nbformat": 4,
 "nbformat_minor": 5
}
